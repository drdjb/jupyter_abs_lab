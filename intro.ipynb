{
 "cells": [
  {
   "cell_type": "markdown",
   "metadata": {},
   "source": [
    "<img src=\"/static/base/images/logo.png?v=641991992878ee24c6f3826e81054a0f\" alt=\"Jupyter Notebook\">\n",
    "<h1 style=\"text-align: center\">An introduction to Agent Based Modelling in Python</h1>"
   ]
  },
  {
   "cell_type": "markdown",
   "metadata": {},
   "source": [
    "<h3>Prerequisites</h3>\n",
    "\n",
    "- You must have Python 3 installed on your system (<a href=\"https://www.python.org/downloads/\">Download</a>)\n",
    "- You must have Jupyter installed on your system (<a href=\"https://jupyter.org/install\">Download</a>)\n",
    "- Some knowledge of Python may be required"
   ]
  },
  {
   "cell_type": "markdown",
   "metadata": {},
   "source": [
    "<h3>Explanation of the notebook</h3>\n",
    "\n",
    "This notebook will solely focus on Python, and we'll be exploring data visualisation further as we begin to use graphs.<br>\n",
    "It is important that you follow each cell to understand everything as otherwise it'd be difficult to keep up.\n",
    "\n",
    "Unlike notebook 1, this notebook will feature a simulation of cyber attackers and victims using agent based modelling; the goal of this is to show the likeliness of attackers being successful against their victims."
   ]
  },
  {
   "cell_type": "markdown",
   "metadata": {},
   "source": [
    "<h3>The context</h3>\n",
    "\n",
    "What's meant by agent based modelling is that this will involve activities which we will create agents/users with randomised attributes, this is to test how the agents would interact based on their behaviour; in this case, it's the attackers and the recipients/victims and how the attackers would be successful or unsuccessful in an attack.\n",
    "\n"
   ]
  },
  {
   "cell_type": "markdown",
   "metadata": {},
   "source": [
    "<h3>What are we trying to simulate</h3>\n",
    "\n",
    "+ There must be two types of agents; attackers and attacked.\n",
    "+ Each attacker must have a random level between 1 to 10 as their attribute.\n",
    "+ Each victim/attacked must have either high (20% chance), medium (50% chance), or low (80%) chance as their attribute (Think of this as their chance of survival, or their security level).\n",
    "+ Each victim can also have one of the three states = not attacked, attacked, and compromised.\n",
    "+ The way the attacks work is the attacker must have a sufficient level equivalent to the chance range of the victim/attacked. \n",
    "+ Level > 1 = sufficient for low chance, Level > 5 = sufficient for medium chance, Level > 9 = sufficient for high chance.\n",
    "+ e.g: If the attacker is level 7, it can attack medium and low, but not high chance victims. When that same attacker with level 7 attacks a medium victim, the medium victim has the status of \"attacked\", and the attacker has a 50% chance of being successful in their attack, which if they are, then the victim's status changes to \"compromised\".\n",
    "+ Every attacked/victim will have their status set to \"not attacked\" initially.\n",
    "+ The attackers shall find their victims at random so that it won't be a specific victim.\n"
   ]
  },
  {
   "cell_type": "markdown",
   "metadata": {},
   "source": [
    "<h3>Getting started</h3>\n",
    "\n",
    "To get started with this notebook, you will need to first install the matplotlib package.<br>\n",
    "You can do this using pip in Command Prompt (Windows), or the Terminal (MacOS/Linux):<br>\n",
    "+ <code>pip install matplotlib</code>\n",
    "\n",
    "Otherwise, run the cell below."
   ]
  },
  {
   "cell_type": "code",
   "execution_count": null,
   "metadata": {},
   "outputs": [],
   "source": [
    "pip install matplotlib"
   ]
  },
  {
   "cell_type": "markdown",
   "metadata": {},
   "source": [
    "After doing so, you may proceed with the notebook."
   ]
  },
  {
   "cell_type": "markdown",
   "metadata": {},
   "source": [
    "<h3>Beginning the network of agents</h3>\n",
    "\n",
    "First, we must set the attributes; attackers have a level (1 to 10), the attacked have a chance (low=80%/medium=50%/high=20%) and a status (not attacked, attacked, compromised). <br>\n",
    "We must first create three of these in lists.  Attributes are similar for in this example.  For example, the chance percentages could be based on analysis and result in a normal distribution <br>\n",
    "around the mean percentage by age."
   ]
  },
  {
   "cell_type": "code",
   "execution_count": null,
   "metadata": {},
   "outputs": [],
   "source": [
    "levels = list(range(1, 11))"
   ]
  },
  {
   "cell_type": "markdown",
   "metadata": {},
   "source": [
    "The list for the levels from 1 to 10 is created above.\n",
    "\n",
    "Now try do the same below but for the status of the attacked/victims, call the variable 'status', <br>\n",
    "__You must complete this step before moving to the next__"
   ]
  },
  {
   "cell_type": "code",
   "execution_count": null,
   "metadata": {},
   "outputs": [],
   "source": []
  },
  {
   "cell_type": "markdown",
   "metadata": {},
   "source": [
    "<b>Double click for the solution</b>\n",
    "\n",
    "<!--\n",
    "status = ['not attacked', 'attacked', 'compromised']\n",
    "-->"
   ]
  },
  {
   "cell_type": "markdown",
   "metadata": {},
   "source": [
    "The next bit is for the chances."
   ]
  },
  {
   "cell_type": "code",
   "execution_count": null,
   "metadata": {},
   "outputs": [],
   "source": [
    "chances = [\"low\", \"medium\", \"high\"]"
   ]
  },
  {
   "cell_type": "markdown",
   "metadata": {},
   "source": [
    "Now that the attributes are set, it's time to create functions to generate both the attackers and the attacked.<br>\n",
    "First, for the attackers, we will make a function that returns a list with the attacker's level, which will be randomised, for this, we will use the \"random\" package."
   ]
  },
  {
   "cell_type": "code",
   "execution_count": null,
   "metadata": {},
   "outputs": [],
   "source": [
    "import random\n",
    "\n",
    "def make_attacker():\n",
    "    return [random.choice(levels)] #Randomly choose from levels list"
   ]
  },
  {
   "cell_type": "code",
   "execution_count": null,
   "metadata": {},
   "outputs": [],
   "source": [
    "attacker_1 = make_attacker()\n",
    "attacker_1"
   ]
  },
  {
   "cell_type": "markdown",
   "metadata": {},
   "source": [
    "If you run the two cells above, you would see that it returns an attacker with a randomised value using the levels list.\n",
    "\n",
    "This means that our function works, but now we need another function for the attacked; for this, we will need both the status and the chance.\n",
    "\n",
    "Try complete the following cell.<br>\n",
    "__You must complete this step before moving to the next__"
   ]
  },
  {
   "cell_type": "code",
   "execution_count": null,
   "metadata": {},
   "outputs": [],
   "source": []
  },
  {
   "cell_type": "markdown",
   "metadata": {},
   "source": [
    "<b>Double click for the solution</b>\n",
    "\n",
    "<!--\n",
    "def make_attacked():\n",
    "    return [status[0], random.choice(chances)] #Randomly choose from chances list\n",
    "-->"
   ]
  },
  {
   "cell_type": "markdown",
   "metadata": {},
   "source": [
    "The cell below will produce an attacked/victim"
   ]
  },
  {
   "cell_type": "code",
   "execution_count": null,
   "metadata": {},
   "outputs": [],
   "source": [
    "attacked_1 = make_attacked()\n",
    "attacked_1"
   ]
  },
  {
   "cell_type": "markdown",
   "metadata": {},
   "source": [
    "It should generate \"not attacked\" as their status as well as a random choice between low, medium and high."
   ]
  },
  {
   "cell_type": "markdown",
   "metadata": {},
   "source": [
    "Next, we will need to make a function to create a randomised population with both attackers and the attacked based on a number."
   ]
  },
  {
   "cell_type": "code",
   "execution_count": null,
   "metadata": {},
   "outputs": [],
   "source": [
    "def make_pop(N):\n",
    "    attackers_population = []\n",
    "    attacked_population = []\n",
    "    \n",
    "    for i in range(N // 2): #Halve the population for attackers\n",
    "        attacker = make_attacker() #Make the attacker\n",
    "        attackers_population.append(attacker) #Add the attacker to the population\n",
    "    \n",
    "    for i in range(N // 2): #Halve the population for attacked\n",
    "        attacked = make_attacked() #Make the attacked\n",
    "        attacked_population.append(attacked) #Add the attacked to the population\n",
    "    \n",
    "    return attackers_population, attacked_population #Return both populations"
   ]
  },
  {
   "cell_type": "code",
   "execution_count": null,
   "metadata": {},
   "outputs": [],
   "source": [
    "attackers, attacked = make_pop(8) #Make a random population of 8 agents in total (4 attackers, 4 attacked)\n",
    "\n",
    "print(\"attackers: \", attackers)\n",
    "print(\"attacked: \", attacked)"
   ]
  },
  {
   "cell_type": "markdown",
   "metadata": {},
   "source": [
    "Upon running the two cells above, you will see that it creates a randomised population of 8, with 4 attackers and 4 attacked."
   ]
  },
  {
   "cell_type": "markdown",
   "metadata": {},
   "source": [
    "<h3>Comparing the agents to interact</h3>\n",
    "\n",
    "Now that we can create randomised populations of attackers and attacked, it's time to make them interact.\n",
    "\n",
    "This is done by comparing the two lists (attackers and attacked) and interacting them based on conditions, ultimately we want the attackers to attack the victims, and so this interaction will exchange information about each other to change behaviour.\n",
    "\n",
    "First, we must choose a pair first, this will help us singulate each attacker and attacked so that it's easier to keep track."
   ]
  },
  {
   "cell_type": "code",
   "execution_count": null,
   "metadata": {},
   "outputs": [],
   "source": [
    "def choose_pair(As, Ad):\n",
    "    attacker = random.choice(As) #Choose a random attacker\n",
    "    attacked = random.choice(Ad) #Chosoe a random attacked/victim\n",
    "    \n",
    "    return attacker, attacked #Return both the attacker and the attacked"
   ]
  },
  {
   "cell_type": "code",
   "execution_count": null,
   "metadata": {},
   "outputs": [],
   "source": [
    "a, ad = choose_pair(attackers, attacked) #Choose the pairs from both population\n",
    "\n",
    "print (\"Attacker: \", a)\n",
    "print (\"Attacked: \", ad)"
   ]
  },
  {
   "cell_type": "markdown",
   "metadata": {},
   "source": [
    "Running the two cells above shall randomly generate different attackers and attacked, notice how there's a while loop to also ensure that only non compromised attacked victims are chosen.\n",
    "\n",
    "Now it's time to make the attacker attack, but to do that, we need to compare the two based on the attacker's level and attacked's chance."
   ]
  },
  {
   "cell_type": "code",
   "execution_count": null,
   "metadata": {},
   "outputs": [],
   "source": [
    "def compare(attacker, attacked):\n",
    "    level = attacker[0] #Get the attacker's level\n",
    "    chance = attacked[1] #Get the attacked's chance\n",
    "    \n",
    "    #Go through conditions based on the attacker's level and attacked's chance\n",
    "    if (level > 9):\n",
    "        if (chance == 'high'):\n",
    "            return True\n",
    "    elif (level > 5):\n",
    "        if (chance == 'medium'):\n",
    "            return True\n",
    "    elif (level > 1):\n",
    "        if (chance == 'low'):\n",
    "            return True\n",
    "    \n",
    "    return False #Return false if none of those conditions are met"
   ]
  },
  {
   "cell_type": "markdown",
   "metadata": {},
   "source": [
    "If you run the above code, you now have a function to compare both the attacker and the attacked so that only attackers with sufficient levels will succeed, this is done by the boolean values 'True' and 'False', so that when it is implemented in the attack function, the attack will only succeed if the value returned is 'True'.\n",
    "\n",
    "Below shows an example of this in use."
   ]
  },
  {
   "cell_type": "code",
   "execution_count": null,
   "metadata": {},
   "outputs": [],
   "source": [
    "compare(a, ad)"
   ]
  },
  {
   "cell_type": "markdown",
   "metadata": {},
   "source": [
    "Based on your attacker and attacked, the result may differ.\n",
    "\n",
    "After this, we must also compare the success rate if the value that is returned from the compare is 'True' so that we can calculate how successful the attack will be."
   ]
  },
  {
   "cell_type": "code",
   "execution_count": null,
   "metadata": {},
   "outputs": [],
   "source": [
    "def successRate(chance):\n",
    "    rate = random.randint(0, 100) #Create a random number from 0 to 100\n",
    "    \n",
    "    #Go through the conditions based on the attacked's chance and their dedicated success rate which will depend on the random number above\n",
    "    if (chance == chances[0]):\n",
    "        if (rate <= 80):\n",
    "            return True\n",
    "    elif (chance == chances[1]):\n",
    "        if (rate <= 50):\n",
    "            return True\n",
    "    elif (chance == chances[2]):\n",
    "        if (rate <= 20):\n",
    "            return True\n",
    "        \n",
    "    return False #Return false if none of those conditions are met"
   ]
  },
  {
   "cell_type": "markdown",
   "metadata": {},
   "source": [
    "If you now test this on the attacker and the attacked made earlier on, you would have a random chance of the function returning 'True' or 'False' based on the attributes 'level' (attacker) and 'chance' (attacked)\n",
    "\n",
    "e.g if the attacked victim's chance is low, you'd have an 80% chance of this function returning 'True', meaning that you'll have 80% chance of the attack succeeding."
   ]
  },
  {
   "cell_type": "code",
   "execution_count": null,
   "metadata": {},
   "outputs": [],
   "source": [
    "successRate(ad)"
   ]
  },
  {
   "cell_type": "markdown",
   "metadata": {},
   "source": [
    "<h3>Making the agents interact/attack</h3>\n",
    "\n",
    "Now that we can compare the attributes of the attackers and the attacked, you can finally make the attackers attack their victim, for this, we will need to create dummy agents for both of them, this time, their attributes would be chosen initially so that we can test the attacks more easily as they are not volatile.\n",
    "\n",
    "How would you create two dummy agents, one for an attacker with a level of 2, one for an attacked with a status of 'not attacked' and a chance of low (80% success rate)?\n",
    "Try it out on the following cell.<br>\n",
    "__You must complete this step before moving to the next__"
   ]
  },
  {
   "cell_type": "code",
   "execution_count": null,
   "metadata": {},
   "outputs": [],
   "source": []
  },
  {
   "cell_type": "markdown",
   "metadata": {},
   "source": [
    "<b>Double click for the solution</b>\n",
    "\n",
    "<!--\n",
    "dummyA = [levels[1]] #Level 2\n",
    "dummyAd = [status[0], chances[0]] #not attacked, low\n",
    "-->"
   ]
  },
  {
   "cell_type": "code",
   "execution_count": null,
   "metadata": {
    "scrolled": true
   },
   "outputs": [],
   "source": [
    "print(\"dummyA: \", dummyA)\n",
    "print(\"dummyAd: \", dummyAd)"
   ]
  },
  {
   "cell_type": "markdown",
   "metadata": {},
   "source": [
    "The cell above will print the result of the dummy agents."
   ]
  },
  {
   "cell_type": "code",
   "execution_count": null,
   "metadata": {},
   "outputs": [],
   "source": [
    "def attack(attacker, attacked):\n",
    "    if (compare(attacker, attacked) == True): #If the attacker's level is sufficient\n",
    "        attacked[0] = status[1] #Set attacked's status to 'attacked'\n",
    "        if (successRate(attacked[1]) == True): #If the attacked's success rate works\n",
    "            attacked[0] = status[2] #Set attacked's status to 'compromised'\n",
    "    else:\n",
    "        pass"
   ]
  },
  {
   "cell_type": "markdown",
   "metadata": {},
   "source": [
    "Below cell will show the attack between the dummy agents that were created."
   ]
  },
  {
   "cell_type": "code",
   "execution_count": null,
   "metadata": {},
   "outputs": [],
   "source": [
    "attack(dummyA, dummyAd) #Test an attack\n",
    "\n",
    "print (dummyA)\n",
    "print (dummyAd)"
   ]
  },
  {
   "cell_type": "markdown",
   "metadata": {},
   "source": [
    "Depending on the chance, if the attacker's level is sufficient, the status of the attacked will either be 'attacked' or 'compromised'.<br>\n",
    "This means three things:\n",
    "+ If the status is 'compromised', it means that the attack was successful,\n",
    "+ If the status is 'attacked', it means that the attack went through, but was not successful\n",
    "+ If the status is 'not attacked', it means that the attacker's level was not sufficient for the attacked's chance"
   ]
  },
  {
   "cell_type": "markdown",
   "metadata": {},
   "source": [
    "<h3>Simulation</h3>\n",
    "\n",
    "Now that we got the attack function working, we can work on the simulation, this can provide us with useful information of these attacks.\n",
    "\n",
    "This time, instead of just one pair, we will test it with multiple pairs to get an average of something.\n",
    "\n",
    "First, we will need to make a function to calculate the proportion of the victims that are attacked or compromised from the attacks."
   ]
  },
  {
   "cell_type": "code",
   "execution_count": null,
   "metadata": {},
   "outputs": [],
   "source": [
    "def countAttacks(population, attackType):\n",
    "    num = 0. #Set the total to a float to find the mean\n",
    "    \n",
    "    for i in population: #Go through each person in the population (attacked)\n",
    "        if (i[0] == attackType): #If their status is as specified\n",
    "            num += 1 #Increment the number\n",
    "    \n",
    "    return num / len(population) #Find the mean using the total population of the attacked"
   ]
  },
  {
   "cell_type": "code",
   "execution_count": null,
   "metadata": {},
   "outputs": [],
   "source": [
    "def simulate(N, K):\n",
    "    attackers, attacked = make_pop(N) #Make a population with equally divided attackers and attacked\n",
    "    \n",
    "    proportion = []\n",
    "    \n",
    "    for i in range(K): #Go through the amount of attacks to be made\n",
    "        simAttacker, simAttacked = choose_pair(attackers, attacked) #Find a pair from both populations\n",
    "        \n",
    "        attack(simAttacker, simAttacked) #Attack using that pair\n",
    "        \n",
    "        proportion.append(countAttacks(attacked, \"compromised\")) #Append to the proportion and find the mean of the 'compromised' attacked/victims\n",
    "    return attackers, attacked, proportion #Return both populations and the proportion"
   ]
  },
  {
   "cell_type": "markdown",
   "metadata": {},
   "source": [
    "The above two cells will create a randomised population where attackers and victims are randomly chosen and attacked to gather the proportion of those who are compromised."
   ]
  },
  {
   "cell_type": "code",
   "execution_count": null,
   "metadata": {},
   "outputs": [],
   "source": [
    "new_attackers_population, new_attacked_population, new_proportion = simulate (20, 500) #Simulate with 20 agents (10 attackers, 10 attacked) with 500 attacks\n",
    "print(\"Final population for attackers: \", new_attackers_population)\n",
    "\n",
    "#Use the matplotlib for this cell\n",
    "%matplotlib inline\n",
    "\n",
    "import matplotlib.pyplot as plt # importing a plotting library\n",
    "plt.plot(new_proportion) #Plot using the new proportion\n",
    "\n",
    "# and add some details to the plot\n",
    "plt.title('Changes in the proportion of [compromised] over time')\n",
    "plt.ylabel('Proportion [compromised] users')\n",
    "plt.xlabel('Time [No. of attacks]')"
   ]
  },
  {
   "cell_type": "markdown",
   "metadata": {},
   "source": [
    "Using the matplot library, we use the proportion calculated from the means of the attacks to plot a line graph, and by running the cell above, you can see that it creates the line graph with all of the attacks and their proportion, you can now make your own conclusion given the inputted data using the output."
   ]
  },
  {
   "cell_type": "markdown",
   "metadata": {},
   "source": [
    "<h3>Batch simulation</h3>\n",
    "\n",
    "Since we now finished a simulation of our attacks, we could also test multiple simulations of multiple attacks so that we could get more accurate results.<br>\n",
    "This is known as 'batch simulation'."
   ]
  },
  {
   "cell_type": "code",
   "execution_count": null,
   "metadata": {},
   "outputs": [],
   "source": [
    "def batch_simulation(N, K, S):\n",
    "    batch_proportions = [] \n",
    "    \n",
    "    for i in range (S): #Go through each simulation\n",
    "        new_attackers_population, new_attacked_population, new_proportion = simulate(N, K) #Simulate with N agents and K attacks\n",
    "        batch_proportions.append(new_proportion) #Append the proportion\n",
    "    return batch_proportions #Return the proportion"
   ]
  },
  {
   "cell_type": "code",
   "execution_count": null,
   "metadata": {},
   "outputs": [],
   "source": [
    "results = batch_simulation(20,500,20) #Batch simulate with 20 agents, 500 attacks, 20 simulations\n",
    "\n",
    "for i in results: #Go through each proportion gained from each simulation\n",
    "    plt.plot(i) #Plot on a line graph"
   ]
  },
  {
   "cell_type": "markdown",
   "metadata": {},
   "source": [
    "From the cells above, you can get an accurate view of the simulation as it provides an average of all of the attacks, this will make your conclusion much stronger as you've tested it multiple times. <br>\n",
    "This also saves the time of having to do more testing as you can simply run multiple simulation with different inputs in just one cell."
   ]
  },
  {
   "cell_type": "markdown",
   "metadata": {},
   "source": [
    "<h3>Quiz</h3>\n",
    "\n",
    "To fully grasp all the information on this notebook, a small quiz is included to strengthen your knowledge.<br>\n",
    "You must run all the cells before doing this quiz as it will require you to use the functions from those cells."
   ]
  },
  {
   "cell_type": "markdown",
   "metadata": {},
   "source": [
    "Complete the method \"compareNew\" where:\n",
    "+ If the level is over 9 and the chance is high, return true\n",
    "+ If the level is over 5 and the chance is medium, return true\n",
    "+ If the level is over 1 and the chance is low, return true\n",
    "+ If none of the above conditions are met, return false"
   ]
  },
  {
   "cell_type": "code",
   "execution_count": null,
   "metadata": {},
   "outputs": [],
   "source": [
    "def compareNew(attacker, attacked):\n",
    "    level = attacker[0] #Get the attacker's level\n",
    "    chance = attacked[1] #Get the attacked's chance\n",
    "    "
   ]
  },
  {
   "cell_type": "markdown",
   "metadata": {},
   "source": [
    "<b>Double click for the solution</b>\n",
    "\n",
    "<!--\n",
    "def compareNew(attacker, attacked):\n",
    "    level = attacker[0] #Get the attacker's level\n",
    "    chance = attacked[1] #Get the attacked's chance\n",
    "    \n",
    "    #Go through conditions based on the attacker's level and attacked's chance\n",
    "    if (level > 9):\n",
    "        if (chance == 'high'):\n",
    "            return True\n",
    "    elif (level > 5):\n",
    "        if (chance == 'medium'):\n",
    "            return True\n",
    "    elif (level > 1):\n",
    "        if (chance == 'low'):\n",
    "            return True\n",
    "    \n",
    "    return False #Return false if none of those conditions are met\n",
    "-->"
   ]
  },
  {
   "cell_type": "markdown",
   "metadata": {},
   "source": [
    "Complete the method \"countAttacksNew\" where:\n",
    "\n",
    "+ If each person in the population equals to the attack type, increment 'num'\n",
    "+ After all the people, return the mean of the total number of people with the attack type."
   ]
  },
  {
   "cell_type": "code",
   "execution_count": null,
   "metadata": {},
   "outputs": [],
   "source": [
    "def countAttacksNew(population, attackType):\n",
    "    num = 0. #Set the total to a float to find the mean\n",
    "    "
   ]
  },
  {
   "cell_type": "markdown",
   "metadata": {},
   "source": [
    "<b>Double click for the solution</b>\n",
    "\n",
    "<!--\n",
    "def countAttacksNew(population, attackType):\n",
    "    num = 0. #Set the total to a float to find the mean\n",
    "    \n",
    "    for i in population: #Go through each person in the population (attacked)\n",
    "        if (i[0] == attackType): #If their status is as specified\n",
    "            num += 1 #Increment the number\n",
    "    \n",
    "    return num / len(population) #Find the mean using the total population of the attacked\n",
    "-->"
   ]
  },
  {
   "cell_type": "markdown",
   "metadata": {},
   "source": [
    "Complete the method \"simulateNew\" where:\n",
    "\n",
    "+ For each simulation (K): \n",
    "    - An attacker and an attacked is chosen using the \"choose_pair\" method\n",
    "    - Attacks are done with the new attacker/attacked using the \"attack\" method\n",
    "    - The mean of the attack of the type \"compromised\" is appended to the proportion list using the \"countAttacks\" method\n",
    "+ Return the attacker, attacked, and the proportion"
   ]
  },
  {
   "cell_type": "code",
   "execution_count": null,
   "metadata": {},
   "outputs": [],
   "source": [
    "def simulateNew(N, K):\n",
    "    attackers, attacked = make_pop(N) #Make a population with equally divided attackers and attacked\n",
    "    \n",
    "    proportion = []\n",
    "    "
   ]
  },
  {
   "cell_type": "markdown",
   "metadata": {},
   "source": [
    "<b>Double click for the solution</b>\n",
    "\n",
    "<!--\n",
    "def simulate(N, K):\n",
    "    attackers, attacked = make_pop(N) #Make a population with equally divided attackers and attacked\n",
    "    \n",
    "    proportion = []\n",
    "    \n",
    "    for i in range(K): #Go through the amount of attacks to be made\n",
    "        simAttacker, simAttacked = choose_pair(attackers, attacked) #Find a pair from both populations\n",
    "        \n",
    "        attack(simAttacker, simAttacked) #Attack using that pair\n",
    "        \n",
    "        proportion.append(countAttacks(attacked, \"compromised\")) #Append to the proportion and find the mean of the 'compromised' attacked/victims\n",
    "    return attackers, attacked, proportion #Return both populations and the proportion\n",
    "-->"
   ]
  },
  {
   "cell_type": "markdown",
   "metadata": {},
   "source": [
    "Complete the following cell where:\n",
    "   + A simulation of 20 agents and 500 attacks is done using the \"simulate\" method\n",
    "   + The simulation must be returned to three variables where the proportion variable is used for the plot"
   ]
  },
  {
   "cell_type": "code",
   "execution_count": null,
   "metadata": {},
   "outputs": [],
   "source": [
    "#Use the matplotlib for this cell\n",
    "%matplotlib inline\n",
    "\n",
    "import matplotlib.pyplot as plt # importing a plotting library\n",
    "plt.plot() #Plot using the new proportion\n",
    "\n",
    "# and add some details to the plot\n",
    "plt.title()\n",
    "plt.ylabel()\n",
    "plt.xlabel()"
   ]
  },
  {
   "cell_type": "markdown",
   "metadata": {},
   "source": [
    "<b>Double click for the solution</b>\n",
    "\n",
    "<!--\n",
    "new_attackers_population, new_attacked_population, new_proportion = simulate (20, 500) #Simulate with 20 agents (10 attackers, 10 attacked) with 500 attacks\n",
    "print(\"Final population for attackers: \", new_attackers_population)\n",
    "\n",
    "#Use the matplotlib for this cell\n",
    "%matplotlib inline\n",
    "\n",
    "import matplotlib.pyplot as plt # importing a plotting library\n",
    "plt.plot(new_proportion) #Plot using the new proportion\n",
    "\n",
    "#and add some details to the plot\n",
    "plt.title('Changes in the proportion of [compromised] over time')\n",
    "plt.ylabel('Proportion [compromised] users')\n",
    "plt.xlabel('Time [No. of attacks]')\n",
    "-->"
   ]
  },
  {
   "cell_type": "markdown",
   "metadata": {},
   "source": [
    "Complete the method \"batch_simulation\" where:\n",
    "   + For each simulation (S):\n",
    "       + Simulation is done with N agents and K attacks\n",
    "       + Append the proportion to the batch proportions list.\n",
    "   + Returns the batch proportions list"
   ]
  },
  {
   "cell_type": "code",
   "execution_count": null,
   "metadata": {},
   "outputs": [],
   "source": [
    "def batch_simulation(N, K, S):\n",
    "    batch_proportions = [] \n",
    "    "
   ]
  },
  {
   "cell_type": "markdown",
   "metadata": {},
   "source": [
    "<b>Double click for the solution</b>\n",
    "\n",
    "<!--\n",
    "def batch_simulation(N, K, S):\n",
    "    batch_proportions = [] \n",
    "    \n",
    "    for i in range (S): #Go through each simulation\n",
    "        new_attackers_population, new_attacked_population, new_proportion = simulate(N, K) #Simulate with N agents and K attacks\n",
    "        batch_proportions.append(new_proportion) #Append the proportion\n",
    "    return batch_proportions #Return the proportion\n",
    "-->"
   ]
  },
  {
   "cell_type": "markdown",
   "metadata": {},
   "source": [
    "<h3>Full code</h3>\n",
    "\n",
    "This section will display the full code for this project, you can use this to either recap what you've learnt or to complete the challenge at the bottom.<br>\n",
    "This will include all the cells including the missing ones (Solutions), and so running it will display everything."
   ]
  },
  {
   "cell_type": "code",
   "execution_count": null,
   "metadata": {},
   "outputs": [],
   "source": [
    "levels = list(range(1, 11))\n",
    "status = ['not attacked', 'attacked', 'compromised']\n",
    "chances = [\"low\", \"medium\", \"high\"]\n",
    "\n",
    "import random\n",
    "\n",
    "def make_attacker():\n",
    "    return [random.choice(levels)] #Randomly choose from levels list\n",
    "\n",
    "attacker_1 = make_attacker()\n",
    "attacker_1\n",
    "\n",
    "def make_attacked():\n",
    "    return [status[0], random.choice(chances)] #Randomly choose from chances list\n",
    "\n",
    "attacked_1 = make_attacked()\n",
    "attacked_1\n",
    "\n",
    "def make_pop(N):\n",
    "    attackers_population = []\n",
    "    attacked_population = []\n",
    "    \n",
    "    for i in range(N // 2): #Halve the population for attackers\n",
    "        attacker = make_attacker() #Make the attacker\n",
    "        attackers_population.append(attacker) #Add the attacker to the population\n",
    "    \n",
    "    for i in range(N // 2): #Halve the population for attacked\n",
    "        attacked = make_attacked() #Make the attacked\n",
    "        attacked_population.append(attacked) #Add the attacked to the population\n",
    "    \n",
    "    return attackers_population, attacked_population #Return both populations\n",
    "\n",
    "attackers, attacked = make_pop(8) #Make a random population of 8 agents in total (4 attackers, 4 attacked)\n",
    "\n",
    "print(\"attackers: \", attackers)\n",
    "print(\"attacked: \", attacked)\n",
    "\n",
    "def choose_pair(As, Ad):\n",
    "    attacker = random.choice(As) #Choose a random attacker\n",
    "    attacked = random.choice(Ad) #Chosoe a random attacked/victim\n",
    "    \n",
    "    return attacker, attacked #Return both the attacker and the attacked\n",
    "\n",
    "a, ad = choose_pair(attackers, attacked) #Choose the pairs from both population\n",
    "\n",
    "print (\"Attacker: \", a)\n",
    "print (\"Attacked: \", ad)\n",
    "\n",
    "def compare(attacker, attacked):\n",
    "    level = attacker[0] #Get the attacker's level\n",
    "    chance = attacked[1] #Get the attacked's chance\n",
    "    \n",
    "    #Go through conditions based on the attacker's level and attacked's chance\n",
    "    if (level > 9):\n",
    "        if (chance == 'high'):\n",
    "            return True\n",
    "    elif (level > 5):\n",
    "        if (chance == 'medium'):\n",
    "            return True\n",
    "    elif (level > 1):\n",
    "        if (chance == 'low'):\n",
    "            return True\n",
    "    \n",
    "    return False #Return false if none of those conditions are met\n",
    "\n",
    "compare(a, ad)\n",
    "\n",
    "def successRate(chance):\n",
    "    rate = random.randint(0, 100) #Create a random number from 0 to 100\n",
    "    \n",
    "    #Go through the conditions based on the attacked's chance and their dedicated success rate which will depend on the random number above\n",
    "    if (chance == chances[0]):\n",
    "        if (rate <= 80):\n",
    "            return True\n",
    "    elif (chance == chances[1]):\n",
    "        if (rate <= 50):\n",
    "            return True\n",
    "    elif (chance == chances[2]):\n",
    "        if (rate <= 20):\n",
    "            return True\n",
    "        \n",
    "    return False #Return false if none of those conditions are met\n",
    "\n",
    "successRate(ad)\n",
    "\n",
    "dummyA = [levels[1]] #Level 2\n",
    "dummyAd = [status[0], chances[0]] #not attacked, low\n",
    "\n",
    "print(\"dummyA: \", dummyA)\n",
    "print(\"dummyAd: \", dummyAd)\n",
    "\n",
    "def attack(attacker, attacked):\n",
    "    if (compare(attacker, attacked) == True): #If the attacker's level is sufficient\n",
    "        attacked[0] = status[1] #Set attacked's status to 'attacked'\n",
    "        if (successRate(attacked[1]) == True): #If the attacked's success rate works\n",
    "            attacked[0] = status[2] #Set attacked's status to 'compromised'\n",
    "    else:\n",
    "        pass\n",
    "    \n",
    "attack(dummyA, dummyAd) #Test an attack\n",
    "\n",
    "print (dummyA)\n",
    "print (dummyAd)\n",
    "\n",
    "def countAttacks(population, attackType):\n",
    "    num = 0. #Set the total to a float to find the mean\n",
    "    \n",
    "    for i in population: #Go through each person in the population (attacked)\n",
    "        if (i[0] == attackType): #If their status is as specified\n",
    "            num += 1 #Increment the number\n",
    "    \n",
    "    return num / len(population) #Find the mean using the total population of the attacked\n",
    "\n",
    "def simulate(N, K):\n",
    "    attackers, attacked = make_pop(N) #Make a population with equally divided attackers and attacked\n",
    "    \n",
    "    proportion = []\n",
    "    \n",
    "    for i in range(K): #Go through the amount of attacks to be made\n",
    "        simAttacker, simAttacked = choose_pair(attackers, attacked) #Find a pair from both populations\n",
    "        \n",
    "        attack(simAttacker, simAttacked) #Attack using that pair\n",
    "        \n",
    "        proportion.append(countAttacks(attacked, \"compromised\")) #Append to the proportion and find the mean of the 'compromised' attacked/victims\n",
    "    return attackers, attacked, proportion #Return both populations and the proportion\n",
    "\n",
    "new_attackers_population, new_attacked_population, new_proportion = simulate (20, 500) #Simulate with 20 agents (10 attackers, 10 attacked) with 500 attacks\n",
    "print(\"Final population for attackers: \", new_attackers_population)\n",
    "\n",
    "#Use the matplotlib for this cell\n",
    "%matplotlib inline\n",
    "\n",
    "import matplotlib.pyplot as plt # importing a plotting library\n",
    "plt.plot(new_proportion) #Plot using the new proportion\n",
    "\n",
    "# and add some details to the plot\n",
    "plt.title('Changes in the proportion of [compromised] over time')\n",
    "plt.ylabel('Proportion [compromised] users')\n",
    "plt.xlabel('Time [No. of attacks]')\n",
    "\n",
    "def batch_simulation(N, K, S):\n",
    "    batch_proportions = [] \n",
    "    \n",
    "    for i in range (S): #Go through each simulation\n",
    "        new_attackers_population, new_attacked_population, new_proportion = simulate(N, K) #Simulate with N agents and K attacks\n",
    "        batch_proportions.append(new_proportion) #Append the proportion\n",
    "    return batch_proportions #Return the proportion\n",
    "\n",
    "results = batch_simulation(20,500,20) #Batch simulate with 20 agents, 500 attacks, 20 simulations\n",
    "\n",
    "for i in results: #Go through each proportion gained from each simulation\n",
    "    plt.plot(i) #Plot on a line graph"
   ]
  },
  {
   "cell_type": "markdown",
   "metadata": {},
   "source": [
    "<h3>Challenge</h3>\n",
    "\n",
    "Now that you've seen the full code for all the cells, you'll have the choice to complete the challenge below.\n",
    "\n",
    "What would you have done differently to add a new attack type? This will involve replicating identity theft.<br>\n",
    "For this, you will do the following:\n",
    "+ Create a new status \"stolen\"\n",
    "+ Create a new list of names with the following: Sam, Will, Mike, Jason, Cameron, James\n",
    "+ Give both the attacker/attacked a random name of the list\n",
    "+ Ensure attacker's and attacked's names aren't the same when being chosen as a pair\n",
    "+ Add functionality to have a 50% chance of stealing an attacked/victim's name after being compromised\n",
    "+ Simulate this to find the mean of the amount of people with the status \"stolen\" using 20 people and 500 attacks\n",
    "\n",
    "You may use the code as your base and make your own functions to complete this task."
   ]
  },
  {
   "cell_type": "code",
   "execution_count": null,
   "metadata": {},
   "outputs": [],
   "source": []
  },
  {
   "cell_type": "markdown",
   "metadata": {},
   "source": [
    "<b>Double click for the solution</b>\n",
    "\n",
    "<!--\n",
    "levels = list(range(1, 11))\n",
    "status = ['not attacked', 'attacked', 'compromised', 'stolen'] #Added stolen\n",
    "chances = [\"low\", \"medium\", \"high\"]\n",
    "\n",
    "#New names list\n",
    "names = [\"Sam\", \"Will\", \"Mike\", \"Jason\", \"Cameron\", \"James\"]\n",
    "\n",
    "import random\n",
    "\n",
    "#Added random name\n",
    "def make_attacker():\n",
    "    return [random.choice(names), random.choice(levels)] #Randomly choose from levels list\n",
    "\n",
    "attacker_1 = make_attacker()\n",
    "attacker_1\n",
    "\n",
    "#Added random name\n",
    "def make_attacked():\n",
    "    return [random.choice(names), status[0], random.choice(chances)] #Randomly choose from chances list\n",
    "\n",
    "attacked_1 = make_attacked()\n",
    "attacked_1\n",
    "\n",
    "def make_pop(N):\n",
    "    attackers_population = []\n",
    "    attacked_population = []\n",
    "    \n",
    "    for i in range(N // 2): #Halve the population for attackers\n",
    "        attacker = make_attacker() #Make the attacker\n",
    "        attackers_population.append(attacker) #Add the attacker to the population\n",
    "    \n",
    "    for i in range(N // 2): #Halve the population for attacked\n",
    "        attacked = make_attacked() #Make the attacked\n",
    "        attacked_population.append(attacked) #Add the attacked to the population\n",
    "    \n",
    "    return attackers_population, attacked_population #Return both populations\n",
    "\n",
    "attackers, attacked = make_pop(8) #Make a random population of 8 agents in total (4 attackers, 4 attacked)\n",
    "\n",
    "#print(\"attackers: \", attackers)\n",
    "#print(\"attacked: \", attacked)\n",
    "\n",
    "def choose_pair(As, Ad):\n",
    "    attacker = random.choice(As) #Choose a random attacker\n",
    "    attacked = random.choice(Ad) #Chosoe a random attacked/victim\n",
    "    \n",
    "    while (attacked[0] == attacker[0]):\n",
    "        attacked = random.choice(Ad)\n",
    "    \n",
    "    return attacker, attacked #Return both the attacker and the attacked\n",
    "\n",
    "a, ad = choose_pair(attackers, attacked) #Choose the pairs from both population\n",
    "\n",
    "#print (\"Attacker: \", a)\n",
    "#print (\"Attacked: \", ad)\n",
    "\n",
    "def compare(attacker, attacked):\n",
    "    level = attacker[1] #Get the attacker's level\n",
    "    chance = attacked[2] #Get the attacked's chance\n",
    "    \n",
    "    #Go through conditions based on the attacker's level and attacked's chance\n",
    "    if (level > 9):\n",
    "        if (chance == 'high'):\n",
    "            return True\n",
    "    elif (level > 5):\n",
    "        if (chance == 'medium'):\n",
    "            return True\n",
    "    elif (level > 1):\n",
    "        if (chance == 'low'):\n",
    "            return True\n",
    "    \n",
    "    return False #Return false if none of those conditions are met\n",
    "\n",
    "compare(a, ad)\n",
    "\n",
    "def successRate(chance):\n",
    "    rate = random.randint(0, 100) #Create a random number from 0 to 100\n",
    "    \n",
    "    #Go through the conditions based on the attacked's chance and their dedicated success rate which will depend on the random number above\n",
    "    if (chance == chances[0]):\n",
    "        if (rate <= 80):\n",
    "            return True\n",
    "    elif (chance == chances[1]):\n",
    "        if (rate <= 50):\n",
    "            return True\n",
    "    elif (chance == chances[2]):\n",
    "        if (rate <= 20):\n",
    "            return True\n",
    "        \n",
    "    return False #Return false if none of those conditions are met\n",
    "\n",
    "successRate(ad)\n",
    "\n",
    "dummyA = [names[0], levels[1]] #Level 2\n",
    "dummyAd = [names[1], status[0], chances[0]] #not attacked, low\n",
    "\n",
    "#print(\"dummyA: \", dummyA)\n",
    "#print(\"dummyAd: \", dummyAd)\n",
    "\n",
    "def attack(attacker, attacked):\n",
    "    if (compare(attacker, attacked) == True): #If the attacker's level is sufficient\n",
    "        attacked[1] = status[1] #Set attacked's status to 'attacked'\n",
    "        if (successRate(attacked[2]) == True): #If the attacked's success rate works\n",
    "            attacked[1] = status[2] #Set attacked's status to 'compromised'\n",
    "    else:\n",
    "        pass\n",
    "\n",
    "#New steal function\n",
    "def steal(attacker, attacked):\n",
    "    rate = random.randint(0, 100)\n",
    "    attackedName = attacked[0]\n",
    "    \n",
    "    #50% chance of stealing identity\n",
    "    if (rate < 50):\n",
    "        pass\n",
    "    else:\n",
    "        attacker[0] = attackedName\n",
    "        attacked[1] = status[3]\n",
    "    \n",
    "attack(dummyA, dummyAd) #Test an attack\n",
    "steal(dummyA, dummyAd) #Test a steal\n",
    "\n",
    "print (dummyA)\n",
    "print (dummyAd)\n",
    "\n",
    "def countAttacks(population, attackType):\n",
    "    num = 0. #Set the total to a float to find the mean\n",
    "    \n",
    "    for i in population: #Go through each person in the population (attacked)\n",
    "        if (i[1] == attackType): #If their status is as specified\n",
    "            num += 1 #Increment the number\n",
    "    \n",
    "    return num / len(population) #Find the mean using the total population of the attacked\n",
    "\n",
    "def simulate(N, K):\n",
    "    attackers, attacked = make_pop(N) #Make a population with equally divided attackers and attacked\n",
    "    \n",
    "    proportion = []\n",
    "    \n",
    "    for i in range(K): #Go through the amount of attacks to be made\n",
    "        simAttacker, simAttacked = choose_pair(attackers, attacked) #Find a pair from both populations\n",
    "        \n",
    "        attack(simAttacker, simAttacked) #Attack using that pair\n",
    "        steal(simAttacker, simAttacked) #Steal using that pair\n",
    "        \n",
    "        proportion.append(countAttacks(attacked, \"stolen\")) #Append to the proportion and find the mean of the 'stolen' attacked/victims\n",
    "    return attackers, attacked, proportion #Return both populations and the proportion\n",
    "\n",
    "new_attackers_population, new_attacked_population, new_proportion = simulate (20, 500) #Simulate with 20 agents (10 attackers, 10 attacked) with 500 attacks\n",
    "#print(\"Final population for attackers: \", new_attackers_population)\n",
    "#print(\"Final population for attacked: \", new_attacked_population)\n",
    "\n",
    "#Use the matplotlib for this cell\n",
    "%matplotlib inline\n",
    "\n",
    "import matplotlib.pyplot as plt # importing a plotting library\n",
    "plt.plot(new_proportion) #Plot using the new proportion\n",
    "\n",
    "#and add some details to the plot\n",
    "plt.title('Changes in the proportion of [stolen] over time')\n",
    "plt.ylabel('Proportion [stolen] users')\n",
    "plt.xlabel('Time [No. of attacks]')\n",
    "-->"
   ]
  },
  {
   "cell_type": "markdown",
   "metadata": {},
   "source": [
    "<h3>The end</h3>\n",
    "\n",
    "This concludes the end of ABS cyber notebook, you've now seen further uses of Jupyter as its capabilties become more appearent.<br>\n",
    "You've also explored agent based modelling and simulation of data that you created on your own, the next notebooks will cover further exploration of Jupyter."
   ]
  }
 ],
 "metadata": {
  "kernelspec": {
   "display_name": "Python 3",
   "language": "python",
   "name": "python3"
  },
  "language_info": {
   "codemirror_mode": {
    "name": "ipython",
    "version": 3
   },
   "file_extension": ".py",
   "mimetype": "text/x-python",
   "name": "python",
   "nbconvert_exporter": "python",
   "pygments_lexer": "ipython3",
   "version": "3.7.3"
  }
 },
 "nbformat": 4,
 "nbformat_minor": 4
}
